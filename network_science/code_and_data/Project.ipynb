{
 "cells": [
  {
   "cell_type": "markdown",
   "metadata": {},
   "source": [
    "# Replication Project for Network Science Course\n",
    "## Paper: An edge-centric perspective on the human connectome: link communities in the brain, by Marcel A. de Reus, Victor M. Saenger, René S. Kahn and Martijn P. van den Heuvel\n",
    "## Student: Yee Sern Tan"
   ]
  },
  {
   "cell_type": "markdown",
   "metadata": {},
   "source": [
    "The dataset is obtained from http://www.myconnectome.nl/wordpress/wp-content/uploads/grouped_umcu50_60percent.mat, courtesy of the Dutch Connectome Lab. It is converted into Network.csv for loading."
   ]
  },
  {
   "cell_type": "code",
   "execution_count": 2,
   "metadata": {
    "collapsed": true
   },
   "outputs": [],
   "source": [
    "import os\n",
    "import csv\n",
    "import numpy as np\n",
    "import networkx as nx\n",
    "import matplotlib.pyplot as plt\n",
    "from sklearn import linear_model\n",
    "import scipy\n",
    "import operator\n",
    "%matplotlib inline\n",
    "\n",
    "input_file = 'Network.csv'\n",
    "\n",
    "if os.path.isfile(input_file) == False:\n",
    "    print(input_file + ' file doesn\\'t exist.')\n",
    "    exit()"
   ]
  },
  {
   "cell_type": "code",
   "execution_count": 3,
   "metadata": {
    "collapsed": true
   },
   "outputs": [],
   "source": [
    "## Read file and check size of array\n",
    "array = []\n",
    "with open(input_file, \"rt\", encoding=\"utf8\") as input_csv:\n",
    "    input_reader = csv.reader(input_csv, delimiter=',')\n",
    "    for entry in input_reader:\n",
    "        if len(entry) != 68:\n",
    "            print(\"row length error {}\".format(len(entry)))\n",
    "        row = [int(item) for item in entry]\n",
    "        array.append(row)\n",
    "    if len(array) != 68:\n",
    "        print(\"array length error {}\".format(len(array)))\n",
    "input_csv.close()"
   ]
  },
  {
   "cell_type": "code",
   "execution_count": 4,
   "metadata": {
    "collapsed": false
   },
   "outputs": [
    {
     "name": "stdout",
     "output_type": "stream",
     "text": [
      "Name: \n",
      "Type: Graph\n",
      "Number of nodes: 68\n",
      "Number of edges: 383\n",
      "Average degree:  11.2647\n",
      "Name: \n",
      "Type: Graph\n",
      "Number of nodes: 383\n",
      "Number of edges: 4698\n",
      "Average degree:  24.5326\n"
     ]
    }
   ],
   "source": [
    "## Convert to NetworkX graph\n",
    "np_matrix = np.matrix(array)\n",
    "G = nx.from_numpy_matrix(np_matrix)\n",
    "print(nx.info(G))\n",
    "\n",
    "# G_line is the line graph\n",
    "G_line = nx.line_graph(G)\n",
    "print(nx.info(G_line))\n",
    "\n",
    "# dict_G_line gives values the 1-indexed edge number for each edge as key\n",
    "dict_G_line = {}\n",
    "# dict_G_line_reverse gives values the edge as node-pair for each edge number as key\n",
    "dict_G_line_reverse = {}"
   ]
  },
  {
   "cell_type": "code",
   "execution_count": 5,
   "metadata": {
    "collapsed": true
   },
   "outputs": [],
   "source": [
    "# Make G_line a weighted graph and output into a txt file\n",
    "iter_edge = 1\n",
    "for edge in G_line.nodes():\n",
    "    dict_G_line[edge] = iter_edge\n",
    "    dict_G_line_reverse[iter_edge] = edge\n",
    "    iter_edge += 1\n",
    "with open(\"line_graph.txt\", \"w\") as f:\n",
    "    f.write(\"# A network in link list format\\n\")\n",
    "    for edge_link in G_line.edges():\n",
    "        shared_node = -1\n",
    "        for end_point0 in edge_link[0]:\n",
    "            for end_point1 in edge_link[1]:\n",
    "                if end_point0 == end_point1:\n",
    "                    shared_node = end_point0\n",
    "        if shared_node == -1:\n",
    "            print(\"This is an error no common node\")\n",
    "            exit()\n",
    "        end1 = dict_G_line[edge_link[0]]\n",
    "        end2 = dict_G_line[edge_link[1]]\n",
    "        weight = 1 / ( G.degree(shared_node) - 1)\n",
    "        str_write = \"{}\\t{}\\t{}\\n\".format(end1, end2,weight)\n",
    "        f.write(str_write)\n",
    "        G_line[edge_link[0]][edge_link[1]]['weight'] = weight\n",
    "f.close()"
   ]
  },
  {
   "cell_type": "markdown",
   "metadata": {},
   "source": [
    "A C++ program processes \"line_graph.txt\" into \"line_graph.clu\" containing communities contained here.\n",
    "The program, developed by Daniel Edler and Martin Rosvall, is under open source GNU Affero General Public License, and can be available at http://www.mapequation.org/code.html.\n",
    "The installation steps depend on the Operating System. It compiles and runs under a Unix-like environment.\n",
    "The algorithm can be run with the following command: \n",
    "\n",
    "./Infomap -i link-list --num-trials 3000 --map --clu --tree <read_directory/line_graph.txt> <write_directory>. \n",
    "\n",
    "The format of the output \"line_graph.clu\" is as follows\n",
    "Column 0: the nodes of line graph, that is the edges of original graph\n",
    "Column 1: the edge_community to which the edge of original graph belongs"
   ]
  },
  {
   "cell_type": "code",
   "execution_count": 6,
   "metadata": {
    "collapsed": true
   },
   "outputs": [],
   "source": [
    "# edge_community_node_index has key node and value a set of edge communities the node is adjacent\n",
    "edge_community_node_index = {}\n",
    "# edge_community_edge_index has key edge and value community\n",
    "edge_community_edge_index = {}\n",
    "communities = []\n",
    "with open(\"line_graph.clu\") as f:\n",
    "    line_number = 0\n",
    "    for line in f:\n",
    "        if line_number < 2:\n",
    "            line_number += 1\n",
    "            continue\n",
    "        line.rstrip('\\n')\n",
    "        community_read_info = line.split(' ')\n",
    "        community = int(community_read_info[1])\n",
    "        edge = dict_G_line_reverse[int(community_read_info[0])]\n",
    "        if edge[0] not in edge_community_node_index:\n",
    "            edge_community_node_index[edge[0]] = []\n",
    "        edge_community_node_index[edge[0]].append(community)\n",
    "        if edge[1] not in edge_community_node_index:\n",
    "            edge_community_node_index[edge[1]] = []\n",
    "        edge_community_node_index[edge[1]].append(community)\n",
    "        edge_community_edge_index[edge] = community\n",
    "        if community not in communities:\n",
    "            communities.append(community)"
   ]
  },
  {
   "cell_type": "code",
   "execution_count": 7,
   "metadata": {
    "collapsed": true
   },
   "outputs": [],
   "source": [
    "# calculates the community ownership of the node\n",
    "def calc_edge_community_ownership(node):\n",
    "    total_count = 0\n",
    "    counts = {}\n",
    "    for community in edge_community_node_index[node]:\n",
    "        if community not in counts:\n",
    "            counts[community] = 1\n",
    "        else:\n",
    "            counts[community] += 1\n",
    "        total_count += 1\n",
    "    ownership = {}\n",
    "    max_count = 0\n",
    "    max_community = []\n",
    "    for community in counts:\n",
    "        ownership[community] = counts[community]/total_count\n",
    "        if counts[community] > max_count:\n",
    "            max_count = counts[community]\n",
    "            max_community = [community]\n",
    "        elif counts[community] == max_count:\n",
    "            max_community.append(community)\n",
    "    # max_community is the list of edge_communities for whcih that node has the most links adjacent to it\n",
    "    # total_count is the number of edge_communities that node is adjacent to\n",
    "    # ownership is a dictionary of a node where {key:value} are {community:proportion of edges in that community} \n",
    "    return [max_community, total_count, sorted(ownership.items(), key=operator.itemgetter(1), reverse=True)]\n",
    "# edge_community_properties stores nodewise properties of edge_communities\n",
    "edge_community_properties = [calc_edge_community_ownership(node) for node in G.nodes()]"
   ]
  },
  {
   "cell_type": "code",
   "execution_count": 8,
   "metadata": {
    "collapsed": true
   },
   "outputs": [],
   "source": [
    "# get the set of nodes adjacent to the edge-community\n",
    "def get_nodes_in_community(community):\n",
    "    nodes_in_community = set()\n",
    "    for node in G.nodes():\n",
    "        if community in edge_community_node_index[node]:\n",
    "            nodes_in_community.add(node)\n",
    "    return nodes_in_community\n",
    "\n",
    "# get the set of edges in the community\n",
    "def get_edges_in_community(community):\n",
    "    edges_in_community = set()\n",
    "    for edge in G.edges():\n",
    "        if edge_community_edge_index[edge] == community:\n",
    "            edges_in_community.add(edge)\n",
    "    return edges_in_community\n",
    "\n",
    "# get the set of nodes for which the most frequent community adjacent is the argument\n",
    "def get_majority_nodes_in_edge_community(community):\n",
    "    majority_nodes_in_community = set()\n",
    "    for node in range(len(edge_community_properties)):\n",
    "        if community in edge_community_properties[node][0]:\n",
    "            majority_nodes_in_community.add(node)\n",
    "    return majority_nodes_in_community\n",
    "\n",
    "# get the set of nodes that are at the interior of the community\n",
    "def get_community_interior_nodes(community):\n",
    "    community_interior_nodes = set()\n",
    "    for node in range(len(edge_community_properties)):\n",
    "        if edge_community_properties[node][2][0][0] == community and \\\n",
    "        edge_community_properties[node][2][0][1] == 1:\n",
    "            community_interior_nodes.add(node)\n",
    "    return community_interior_nodes"
   ]
  },
  {
   "cell_type": "code",
   "execution_count": 9,
   "metadata": {
    "collapsed": false
   },
   "outputs": [],
   "source": [
    "# load region description/names into G\n",
    "with open(\"region_descriptions.txt\", \"rt\", encoding=\"utf8\") as input_txt:\n",
    "    region_names = {}\n",
    "    region_index = 0\n",
    "    for line in input_txt:\n",
    "        line.strip()\n",
    "        region_names[region_index] = line\n",
    "        region_index += 1\n",
    "input_txt.close()\n",
    "nx.set_node_attributes(G, 'name', region_names)\n",
    "region_names = nx.get_node_attributes(G, 'name')"
   ]
  },
  {
   "cell_type": "markdown",
   "metadata": {},
   "source": [
    "The following computes sizes of intersection of communities, that have been useful in confirming the partition is identical to the paper, and in identifying the communities."
   ]
  },
  {
   "cell_type": "code",
   "execution_count": 10,
   "metadata": {
    "collapsed": true
   },
   "outputs": [],
   "source": [
    "# computes intersection sizes of communities\n",
    "community_intersection_matrix = []\n",
    "for community_row in communities:\n",
    "    row_nodes = get_nodes_in_community(community_row)\n",
    "    community_intersection_row = []\n",
    "    for community_col in communities:\n",
    "        col_nodes = get_nodes_in_community(community_col)\n",
    "        community_intersection_row.append(len(row_nodes & col_nodes))\n",
    "    community_intersection_matrix.append(community_intersection_row)\n",
    "# writes to file the connection weights between communities as the number of intersecting nodees\n",
    "G_communities = nx.Graph()\n",
    "G_communities.add_nodes_from(communities)\n",
    "for row in communities:\n",
    "    for col in communities:\n",
    "        if col > row:\n",
    "            break\n",
    "        current_weight = community_intersection_matrix[row-1][col-1]\n",
    "        if current_weight > 0:\n",
    "            G_communities.add_edge(row, col, weight=current_weight)\n",
    "nx.write_gexf(G_communities, 'BrainEdgeCommunities.gexf')"
   ]
  },
  {
   "cell_type": "code",
   "execution_count": 11,
   "metadata": {
    "collapsed": false
   },
   "outputs": [
    {
     "name": "stdout",
     "output_type": "stream",
     "text": [
      "Name: \n",
      "Type: Graph\n",
      "Number of nodes: 68\n",
      "Number of edges: 71\n",
      "Average degree:   2.0882\n"
     ]
    }
   ],
   "source": [
    "# subgraph of G where nodes are adjacent if they share at least 3 communities in G\n",
    "G_3comm = nx.Graph()\n",
    "G_3comm.add_nodes_from(G.nodes())\n",
    "for node in range(len(G.nodes())):\n",
    "    set1 = set(edge_community_node_index[node])\n",
    "    community_number = len(set1)\n",
    "        \n",
    "    # find whether two nodes can share 3 communities\n",
    "    if community_number >= 3:\n",
    "        for node2 in range(len(G.nodes())):\n",
    "            set2 = set(edge_community_node_index[node2])\n",
    "            if len(set2) < 3:\n",
    "                continue\n",
    "            if node == node2:\n",
    "                break\n",
    "            set0 = set1 & set2\n",
    "            if len(set0) < 3:\n",
    "                continue\n",
    "            G_3comm.add_edge(node, node2)\n",
    "print(nx.info(G_3comm))"
   ]
  },
  {
   "cell_type": "markdown",
   "metadata": {},
   "source": [
    "After some tedious verification, the graph obtained is confirmed to be identical to that in the paper."
   ]
  },
  {
   "cell_type": "code",
   "execution_count": 12,
   "metadata": {
    "collapsed": true
   },
   "outputs": [],
   "source": [
    "reordered_communities = [1, 2, 5, 9, 3, 8, 11, 7, 4, 6, 10]\n",
    "\n",
    "# A matching with the communities detected here\n",
    "community_names = {\n",
    "    1 : 'Pr/Oc',\n",
    "    2 : 'cingulate',\n",
    "    3 : 'left midT',\n",
    "    4 : 'right midT',\n",
    "    5 : 'medF',\n",
    "    6 : 'right Ph/Er',\n",
    "    7 : 'right midF',\n",
    "    8 : 'left Ph/Er',\n",
    "    9 : 'left midF',\n",
    "    10 : 'right PC',\n",
    "    11 : 'left PC'\n",
    "}\n",
    "\n",
    "reordered_labels = [community_names[i] for i in reordered_communities]"
   ]
  },
  {
   "cell_type": "code",
   "execution_count": 13,
   "metadata": {
    "collapsed": true
   },
   "outputs": [],
   "source": [
    "# Minimal subgraph containing for each community\n",
    "community_subgraph = {}\n",
    "for community in communities:\n",
    "    community_subgraph[community] = G_line.subgraph(get_edges_in_community(community))"
   ]
  },
  {
   "cell_type": "code",
   "execution_count": 14,
   "metadata": {
    "collapsed": true
   },
   "outputs": [],
   "source": [
    "# Utility functions\n",
    "def avg_dict_of_dict(dict_of_dict):\n",
    "    sum_ = 0\n",
    "    item_ = 0\n",
    "    for i in dict_of_dict:\n",
    "        for j in dict_of_dict[i]:\n",
    "            sum_ += dict_of_dict[i][j]\n",
    "            item_ += 1\n",
    "    return sum_*1.0/item_\n",
    "def div_list_of_list(list_of_list, den):\n",
    "    if den == 0:\n",
    "        print(\"Division by zero impossible\")\n",
    "        return\n",
    "    for i in list_of_list:\n",
    "        for j in range(len(i)):\n",
    "            i[j] /= den\n",
    "    return"
   ]
  },
  {
   "cell_type": "markdown",
   "metadata": {},
   "source": [
    "The following code is for the effect of edge removal, on average clustering coefficient, characteristic path length, global communicability, and local community. The edge betweenness metric provides a basis for comparison."
   ]
  },
  {
   "cell_type": "code",
   "execution_count": 16,
   "metadata": {
    "collapsed": true
   },
   "outputs": [],
   "source": [
    "original_cl = nx.average_clustering(G)\n",
    "original_spl = nx.average_shortest_path_length(G)\n",
    "G_ebc = nx.edge_betweenness_centrality(G)\n",
    "original_ebc = np.mean(list(G_ebc.values()))\n",
    "G_com = nx.communicability(G)\n",
    "G_gc = avg_dict_of_dict(G_com)\n",
    "removal_cl = []\n",
    "removal_spl = []\n",
    "removal_ebc = []\n",
    "removal_gc = []\n",
    "removal_lc = []\n",
    "sum_cl = 0\n",
    "sum_spl = 0\n",
    "sum_ebc = 0\n",
    "sum_gc = 0\n",
    "sum_lc = 0\n",
    "total_iteration = 0\n",
    "communities = reordered_communities"
   ]
  },
  {
   "cell_type": "markdown",
   "metadata": {},
   "source": [
    "This for-loop takes about half an hour to run on my laptop, mainly due to processing the NetworkX function, communicability. The result of this run is saved, and can be loaded directly from a later block of code, without needing to run this portion over."
   ]
  },
  {
   "cell_type": "code",
   "execution_count": 17,
   "metadata": {
    "collapsed": true
   },
   "outputs": [],
   "source": [
    "for community in communities:\n",
    "    G_line_community = community_subgraph[community]\n",
    "    removal_cl.append([0]*len(G_line_community))\n",
    "    removal_spl.append([0]*len(G_line_community))\n",
    "    removal_ebc.append([0]*len(G_line_community))\n",
    "    removal_gc.append([0]*len(G_line_community))\n",
    "    removal_lc.append([0]*len(G_line_community))\n",
    "    # nodes of G_community are edges in G\n",
    "    for iteration,edge in enumerate(G_line_community.nodes()):\n",
    "        G_copy = G.copy()\n",
    "        G_copy.remove_edge(*edge)\n",
    "        cl = nx.average_clustering(G_copy)-original_cl\n",
    "        sum_cl += cl\n",
    "        removal_cl[-1][iteration]= cl\n",
    "        spl = nx.average_shortest_path_length(G_copy)-original_spl\n",
    "        sum_spl += spl\n",
    "        removal_spl[-1][iteration] = spl\n",
    "        ebc = G_ebc[edge]\n",
    "        sum_ebc += ebc\n",
    "        removal_ebc[-1][iteration] = ebc\n",
    "        com = nx.communicability(G_copy)\n",
    "        gc = avg_dict_of_dict(com) - G_gc\n",
    "        sum_gc += gc\n",
    "        removal_gc[-1][iteration] = gc \n",
    "        lc = (com[edge[0]][edge[1]] - G_com[edge[0]][edge[1]])/G_com[edge[0]][edge[1]]\n",
    "        sum_lc += lc\n",
    "        removal_lc[-1][iteration] = lc\n",
    "        total_iteration += 1"
   ]
  },
  {
   "cell_type": "code",
   "execution_count": 18,
   "metadata": {
    "collapsed": true
   },
   "outputs": [],
   "source": [
    "avg_cl = sum_cl/len(G.edges())\n",
    "avg_spl = sum_spl/len(G.edges())\n",
    "avg_ebc = sum_ebc/len(G.edges())\n",
    "avg_gc = sum_gc/len(G.edges())\n",
    "avg_lc = sum_lc/len(G.edges())\n",
    "div_list_of_list(removal_cl, avg_cl)\n",
    "div_list_of_list(removal_spl, avg_spl)\n",
    "div_list_of_list(removal_ebc, avg_ebc)\n",
    "div_list_of_list(removal_gc, avg_gc)\n",
    "div_list_of_list(removal_lc, avg_lc)"
   ]
  },
  {
   "cell_type": "code",
   "execution_count": 20,
   "metadata": {
    "collapsed": true
   },
   "outputs": [],
   "source": [
    "with open('removal.csv', 'w') as f:\n",
    "    removal_writer = csv.writer(f, delimiter=',')\n",
    "    removal_writer.writerows(removal_cl)\n",
    "    removal_writer.writerows(removal_spl)\n",
    "    removal_writer.writerows(removal_ebc)\n",
    "    removal_writer.writerows(removal_gc)\n",
    "    removal_writer.writerows(removal_lc)"
   ]
  },
  {
   "cell_type": "markdown",
   "metadata": {},
   "source": [
    "This block of code reads from file, allowing to proceed without running the preceeding few blocks."
   ]
  },
  {
   "cell_type": "code",
   "execution_count": 15,
   "metadata": {
    "collapsed": true
   },
   "outputs": [],
   "source": [
    "removal_read = []\n",
    "b = False\n",
    "with open('removal.csv', 'r') as f:\n",
    "    removal_reader = csv.reader(f, delimiter=',')\n",
    "    for line in removal_reader:\n",
    "        if not b:\n",
    "            removal_read.append(line)\n",
    "        b = not b\n",
    "removal_cl = [[float(item) for item in row] for row in removal_read[:11]]\n",
    "removal_spl = [[float(item) for item in row] for row in removal_read[11:22]]\n",
    "removal_ebc = [[float(item) for item in row] for row in removal_read[22:33]]\n",
    "removal_gc = [[float(item) for item in row] for row in removal_read[33:44]]\n",
    "removal_lc = [[float(item) for item in row] for row in removal_read[44:55]]"
   ]
  },
  {
   "cell_type": "code",
   "execution_count": 16,
   "metadata": {
    "collapsed": false
   },
   "outputs": [
    {
     "data": {
      "text/plain": [
       "<matplotlib.text.Text at 0x1fba9bc4c88>"
      ]
     },
     "execution_count": 16,
     "metadata": {},
     "output_type": "execute_result"
    },
    {
     "data": {
      "image/png": "[encoded data removed]",
      "text/plain": [
       "<matplotlib.figure.Figure at 0x1fba8b6e860>"
      ]
     },
     "metadata": {},
     "output_type": "display_data"
    }
   ],
   "source": [
    "plt.boxplot(removal_cl, labels=reordered_communities)\n",
    "plt.xticks(range(1,12), reordered_labels, rotation='vertical')\n",
    "plt.title(\"Effects of edge removal on average clustering coefficient\")"
   ]
  },
  {
   "cell_type": "code",
   "execution_count": 17,
   "metadata": {
    "collapsed": false
   },
   "outputs": [
    {
     "data": {
      "text/plain": [
       "<matplotlib.text.Text at 0x1fbaa52a5f8>"
      ]
     },
     "execution_count": 17,
     "metadata": {},
     "output_type": "execute_result"
    },
    {
     "data": {
      "image/png": "[encoded data removed]",
      "text/plain": [
       "<matplotlib.figure.Figure at 0x1fba8b6eb00>"
      ]
     },
     "metadata": {},
     "output_type": "display_data"
    }
   ],
   "source": [
    "plt.boxplot(removal_spl, labels=reordered_communities)\n",
    "plt.xticks(range(1,12), reordered_labels, rotation='vertical')\n",
    "plt.title(\"Effects of edge removal on characteristic path length\")"
   ]
  },
  {
   "cell_type": "code",
   "execution_count": 18,
   "metadata": {
    "collapsed": false
   },
   "outputs": [
    {
     "data": {
      "text/plain": [
       "<matplotlib.text.Text at 0x1fbaa68cf28>"
      ]
     },
     "execution_count": 18,
     "metadata": {},
     "output_type": "execute_result"
    },
    {
     "data": {
      "image/png": "[encoded data removed]",
      "text/plain": [
       "<matplotlib.figure.Figure at 0x1fbaa4f26d8>"
      ]
     },
     "metadata": {},
     "output_type": "display_data"
    }
   ],
   "source": [
    "plt.boxplot(removal_ebc, labels=reordered_communities)\n",
    "plt.xticks(range(1,12), reordered_labels, rotation='vertical')\n",
    "plt.title(\"Average edge-betweenness centrality\")"
   ]
  },
  {
   "cell_type": "code",
   "execution_count": 19,
   "metadata": {
    "collapsed": false
   },
   "outputs": [
    {
     "data": {
      "text/plain": [
       "<matplotlib.text.Text at 0x1fbaa7f4048>"
      ]
     },
     "execution_count": 19,
     "metadata": {},
     "output_type": "execute_result"
    },
    {
     "data": {
      "image/png": "[encoded data removed]",
      "text/plain": [
       "<matplotlib.figure.Figure at 0x1fbaa78ee80>"
      ]
     },
     "metadata": {},
     "output_type": "display_data"
    }
   ],
   "source": [
    "plt.boxplot(removal_gc, labels=reordered_communities)\n",
    "plt.xticks(range(1,12), reordered_labels, rotation='vertical')\n",
    "plt.title(\"Effects of edge removal on global communicability\")"
   ]
  },
  {
   "cell_type": "code",
   "execution_count": 20,
   "metadata": {
    "collapsed": false
   },
   "outputs": [
    {
     "data": {
      "text/plain": [
       "<matplotlib.text.Text at 0x1fbaa948be0>"
      ]
     },
     "execution_count": 20,
     "metadata": {},
     "output_type": "execute_result"
    },
    {
     "data": {
      "image/png": "[encoded data removed]",
      "text/plain": [
       "<matplotlib.figure.Figure at 0x1fbaa791a90>"
      ]
     },
     "metadata": {},
     "output_type": "display_data"
    }
   ],
   "source": [
    "plt.boxplot(removal_lc, labels=reordered_communities)\n",
    "plt.xticks(range(1,12), reordered_labels, rotation='vertical')\n",
    "plt.title(\"Effects of edge removal on local communicability\")"
   ]
  },
  {
   "cell_type": "code",
   "execution_count": 21,
   "metadata": {
    "collapsed": false
   },
   "outputs": [
    {
     "name": "stdout",
     "output_type": "stream",
     "text": [
      "There are 3 regions (nodes) contained exclusively within community Pr/Oc .\n",
      "There are 1 regions (nodes) contained exclusively within community cingulate .\n",
      "There are 3 regions (nodes) contained exclusively within community left midT .\n",
      "There are 3 regions (nodes) contained exclusively within community right midT .\n",
      "There are 2 regions (nodes) contained exclusively within community medF .\n",
      "There are 4 regions (nodes) contained exclusively within community right Ph/Er .\n",
      "There are 5 regions (nodes) contained exclusively within community right midF .\n",
      "There are 4 regions (nodes) contained exclusively within community left Ph/Er .\n",
      "There are 4 regions (nodes) contained exclusively within community left midF .\n",
      "There are 0 regions (nodes) contained exclusively within community right PC .\n",
      "There are 1 regions (nodes) contained exclusively within community left PC .\n"
     ]
    }
   ],
   "source": [
    "# Interior nodes of communities\n",
    "for community in communities:\n",
    "    print(\"There are\", len(get_community_interior_nodes(community)), \n",
    "          \"regions (nodes) contained exclusively within community\", community_names[community], \".\")"
   ]
  },
  {
   "cell_type": "code",
   "execution_count": 22,
   "metadata": {
    "collapsed": false
   },
   "outputs": [
    {
     "name": "stdout",
     "output_type": "stream",
     "text": [
      "Out of the 68 regions (nodes) 38 do not belong exclusively to any single community.\n"
     ]
    }
   ],
   "source": [
    "# Count number of nodes that do not belong to any specific community\n",
    "def participation_coeff(node):\n",
    "    return_value = 1\n",
    "    for ownership in edge_community_properties[node][2]:\n",
    "        return_value -= ownership[1] ** 2\n",
    "    return return_value\n",
    "num_mult_comm = 0\n",
    "for node in G:\n",
    "    if participation_coeff(node)>0:\n",
    "        num_mult_comm += 1\n",
    "print(\"Out of the\", len(G), \"regions (nodes)\", num_mult_comm, \"do not belong exclusively to any single community.\")"
   ]
  },
  {
   "cell_type": "code",
   "execution_count": 23,
   "metadata": {
    "collapsed": false
   },
   "outputs": [
    {
     "name": "stdout",
     "output_type": "stream",
     "text": [
      "Community: Pr/Oc\n",
      "Name: \n",
      "Type: Graph\n",
      "Number of nodes: 14\n",
      "Number of edges: 76\n",
      "Average degree:  10.8571 \n",
      "\n",
      "Community: cingulate\n",
      "Name: \n",
      "Type: Graph\n",
      "Number of nodes: 12\n",
      "Number of edges: 46\n",
      "Average degree:   7.6667 \n",
      "\n",
      "Community: left midT\n",
      "Name: \n",
      "Type: Graph\n",
      "Number of nodes: 17\n",
      "Number of edges: 45\n",
      "Average degree:   5.2941 \n",
      "\n",
      "Community: right midT\n",
      "Name: \n",
      "Type: Graph\n",
      "Number of nodes: 17\n",
      "Number of edges: 43\n",
      "Average degree:   5.0588 \n",
      "\n",
      "Community: medF\n",
      "Name: \n",
      "Type: Graph\n",
      "Number of nodes: 16\n",
      "Number of edges: 32\n",
      "Average degree:   4.0000 \n",
      "\n",
      "Community: right Ph/Er\n",
      "Name: \n",
      "Type: Graph\n",
      "Number of nodes: 16\n",
      "Number of edges: 30\n",
      "Average degree:   3.7500 \n",
      "\n",
      "Community: right midF\n",
      "Name: \n",
      "Type: Graph\n",
      "Number of nodes: 15\n",
      "Number of edges: 30\n",
      "Average degree:   4.0000 \n",
      "\n",
      "Community: left Ph/Er\n",
      "Name: \n",
      "Type: Graph\n",
      "Number of nodes: 16\n",
      "Number of edges: 29\n",
      "Average degree:   3.6250 \n",
      "\n",
      "Community: left midF\n",
      "Name: \n",
      "Type: Graph\n",
      "Number of nodes: 11\n",
      "Number of edges: 29\n",
      "Average degree:   5.2727 \n",
      "\n",
      "Community: right PC\n",
      "Name: \n",
      "Type: Graph\n",
      "Number of nodes: 13\n",
      "Number of edges: 12\n",
      "Average degree:   1.8462 \n",
      "\n",
      "Community: left PC\n",
      "Name: \n",
      "Type: Graph\n",
      "Number of nodes: 12\n",
      "Number of edges: 11\n",
      "Average degree:   1.8333 \n",
      "\n"
     ]
    }
   ],
   "source": [
    "# prints information for the subgraphs of each community\n",
    "for community in communities:\n",
    "    community_subgraph = nx.Graph()\n",
    "    node_set = get_nodes_in_community(community)\n",
    "    edge_set = get_edges_in_community(community)\n",
    "    for node in node_set:\n",
    "        community_subgraph.add_node(node)\n",
    "    for edge in edge_set:\n",
    "        community_subgraph.add_edge(edge[0], edge[1])\n",
    "    print(\"Community:\", community_names[community])\n",
    "    print(nx.info(community_subgraph), \"\\n\")"
   ]
  },
  {
   "cell_type": "code",
   "execution_count": 24,
   "metadata": {
    "collapsed": false
   },
   "outputs": [
    {
     "data": {
      "text/plain": [
       "<matplotlib.text.Text at 0x1fbaaab0048>"
      ]
     },
     "execution_count": 24,
     "metadata": {},
     "output_type": "execute_result"
    },
    {
     "data": {
      "image/png": "[encoded data removed]",
      "text/plain": [
       "<matplotlib.figure.Figure at 0x1fbaaa81710>"
      ]
     },
     "metadata": {},
     "output_type": "display_data"
    }
   ],
   "source": [
    "# Generate the historam of participation number of nodes\n",
    "plt.hist([len(edge_community_properties[node][2]) for node in G.nodes()], bins=8, range=[0.5,8.5], color='sienna')\n",
    "plt.xlim(0.5, 8.5)\n",
    "plt.xlabel('participation number')\n",
    "plt.ylabel('number of nodes (regions)')\n",
    "plt.title('Nodal participation number distribution')"
   ]
  },
  {
   "cell_type": "code",
   "execution_count": 25,
   "metadata": {
    "collapsed": false
   },
   "outputs": [
    {
     "name": "stdout",
     "output_type": "stream",
     "text": [
      "The region ctx-lh-precuneus\n",
      " is involved in 7 communities.\n",
      "The region ctx-lh-superiorfrontal\n",
      " is involved in 8 communities.\n",
      "The region ctx-rh-precentral\n",
      " is involved in 5 communities.\n",
      "The region ctx-rh-precuneus\n",
      " is involved in 7 communities.\n",
      "The region ctx-rh-superiorfrontal\n",
      " is involved in 8 communities.\n"
     ]
    }
   ],
   "source": [
    "# Identification of nodes involved in many communities\n",
    "# This confirms that the regions involved in 7 or 8 communities are hubs corresponding to precuneus and superior frontal.\n",
    "for node in G.nodes():\n",
    "    value = len(edge_community_properties[node][2])\n",
    "    if value >= 5:\n",
    "        print(\"The region\", region_names[node], \"is involved in\", value, \"communities.\")"
   ]
  },
  {
   "cell_type": "code",
   "execution_count": 26,
   "metadata": {
    "collapsed": true
   },
   "outputs": [],
   "source": [
    "# Putative hub regions (nodes)\n",
    "hub_regions = [\n",
    "    \"ctx-lh-superiorfrontal\\n\",\n",
    "    \"ctx-rh-superiorfrontal\\n\",\n",
    "    \"ctx-lh-precuneus\\n\",\n",
    "    \"ctx-rh-precuneus\\n\",\n",
    "    \"ctx-lh-superiorparietal\\n\",\n",
    "    \"ctx-rh-superiorparietal\\n\",\n",
    "    \"ctx-lh-insula\\n\",\n",
    "    \"ctx-rh-insula\\n\"\n",
    "]\n",
    "hub_dict = {}\n",
    "hub_set = set()\n",
    "for node in G.nodes():\n",
    "    if region_names[node] in hub_regions:\n",
    "        for region_name in hub_regions:\n",
    "            if region_name == region_names[node]:\n",
    "                hub_dict[region_name] = node\n",
    "                hub_set.add(node)"
   ]
  },
  {
   "cell_type": "code",
   "execution_count": 27,
   "metadata": {
    "collapsed": false
   },
   "outputs": [
    {
     "data": {
      "text/plain": [
       "<matplotlib.text.Text at 0x1fbaab314e0>"
      ]
     },
     "execution_count": 27,
     "metadata": {},
     "output_type": "execute_result"
    },
    {
     "data": {
      "image/png": "[encoded data removed]",
      "text/plain": [
       "<matplotlib.figure.Figure at 0x1fbaaa81978>"
      ]
     },
     "metadata": {},
     "output_type": "display_data"
    }
   ],
   "source": [
    "# Number of hubs involved in communities\n",
    "hub_involvement = []\n",
    "for community in reordered_communities:\n",
    "    involvement = 0\n",
    "    node_set = get_nodes_in_community(community)\n",
    "    for node in node_set:\n",
    "        for region_name in hub_regions:\n",
    "            if hub_dict[region_name] == node:\n",
    "                involvement += 1\n",
    "                break\n",
    "    hub_involvement.append(involvement)\n",
    "index = np.arange(11)\n",
    "plt.barh(index+0.4, hub_involvement, color='steelblue')\n",
    "plt.yticks(index+0.4, reordered_labels, rotation='horizontal')\n",
    "plt.ylim(-0.5, 11.5)\n",
    "plt.xlabel('number of involved hubs')\n",
    "plt.title('Number of hubs involved in communities')"
   ]
  },
  {
   "cell_type": "markdown",
   "metadata": {},
   "source": [
    "An analysis of participation number of nodes with factors the degree and hub/non-hub status."
   ]
  },
  {
   "cell_type": "code",
   "execution_count": 28,
   "metadata": {
    "collapsed": false
   },
   "outputs": [
    {
     "name": "stdout",
     "output_type": "stream",
     "text": [
      "The participation numbers of hubs have mean 5.75 and standard deviation 1.79\n",
      "The participation numbers of non-hubs have mean 1.88 and standard deviation 1.07\n",
      "The coefficient for degree is 0.24 and that for hub is 1.41\n"
     ]
    }
   ],
   "source": [
    "total_count = {}\n",
    "hub_count = {}\n",
    "participation_number_by_degree = {}\n",
    "y_total = []\n",
    "y_err = []\n",
    "hub_dist = []\n",
    "nonhub_dist = []\n",
    "regr_x = []\n",
    "regr_y = []\n",
    "for node in G.nodes():\n",
    "    degree = G.degree(node)\n",
    "    if degree not in participation_number_by_degree:\n",
    "        participation_number_by_degree[degree] = []\n",
    "        total_count[degree] = 0\n",
    "        hub_count[degree] = 0\n",
    "    participation_number = len(edge_community_properties[node][2])\n",
    "    participation_number_by_degree[degree].append(participation_number)\n",
    "    total_count[degree] += 1\n",
    "    if node in hub_set:\n",
    "        hub_count[degree] += 1\n",
    "        hub_dist.append(participation_number)\n",
    "        regr_x.append([degree, 1])\n",
    "        regr_y.append(participation_number)\n",
    "    else:\n",
    "        nonhub_dist.append(participation_number)\n",
    "        regr_x.append([degree, 0])\n",
    "        regr_y.append(participation_number)\n",
    "print(\"The participation numbers of hubs have mean {0:.2f} and standard deviation {1:.2f}\".format(np.mean(hub_dist), np.std(hub_dist)))\n",
    "print(\"The participation numbers of non-hubs have mean {0:.2f} and standard deviation {1:.2f}\".format(np.mean(nonhub_dist), \n",
    "                                                                                                      np.std(nonhub_dist)))\n",
    "\n",
    "regr = linear_model.LinearRegression()\n",
    "regr.fit(regr_x, regr_y)\n",
    "print(\"The coefficient for degree is {0:.2f} and that for hub is {1:.2f}\".format(regr.coef_[0], regr.coef_[1]))\n",
    "#prediction = regr.predict(regr_x)\n",
    "#residual = (prediction - regr_y)**2/prediction\n",
    "#regr_x_null = []\n",
    "#for node in G.nodes():\n",
    "#    degree = G.degree(node)\n",
    "#    regr_x_null.append([degree])\n",
    "#    participation_number = len(edge_community_properties[node][2])\n",
    "#regr.fit(regr_x_null, regr_y)\n",
    "#prediction = regr.predict(regr_x_null)\n",
    "#residual_null = (prediction - regr_y)**2/prediction\n",
    "#print(\"The lack-of-fit residual sum of squares is\", np.sum(residual_null)-np.sum(residual))"
   ]
  },
  {
   "cell_type": "code",
   "execution_count": 29,
   "metadata": {
    "collapsed": false
   },
   "outputs": [
    {
     "data": {
      "text/plain": [
       "<matplotlib.text.Text at 0x1fbaabc08d0>"
      ]
     },
     "execution_count": 29,
     "metadata": {},
     "output_type": "execute_result"
    },
    {
     "data": {
      "image/png": "[encoded data removed]",
      "text/plain": [
       "<matplotlib.figure.Figure at 0x1fbaab793c8>"
      ]
     },
     "metadata": {},
     "output_type": "display_data"
    }
   ],
   "source": [
    "for degree in participation_number_by_degree:\n",
    "    y_total.append(np.mean(participation_number_by_degree[degree]))\n",
    "    y_err.append(np.std(participation_number_by_degree[degree]))\n",
    "avail_deg = [item[0] for item in participation_number_by_degree.items()]\n",
    "hub_prop = [float(hub_count[degree])/total_count[degree] for degree in hub_count]\n",
    "index = np.arange(len(avail_deg))\n",
    "y_hub = [y_total[i]*hub_prop[i] for i in index]\n",
    "y_nonhub = [y_total[i]*(1-hub_prop[i]) for i in index]\n",
    "plt.bar(index, y_nonhub, color='silver', label='non-hubs')\n",
    "plt.bar(index, y_hub, color='teal', bottom=y_nonhub, yerr=y_err, label='hubs')\n",
    "plt.xticks(index+0.4, avail_deg)\n",
    "plt.xlim(-0.5,len(index)+0.5)\n",
    "plt.xlabel('degree')\n",
    "plt.ylabel('participation number')\n",
    "plt.legend(loc='upper left')\n",
    "plt.title('Participation number by degree and by hub/non-hub')"
   ]
  },
  {
   "cell_type": "code",
   "execution_count": null,
   "metadata": {
    "collapsed": true
   },
   "outputs": [],
   "source": []
  }
 ],
 "metadata": {
  "kernelspec": {
   "display_name": "Python [Root]",
   "language": "python",
   "name": "Python [Root]"
  },
  "language_info": {
   "codemirror_mode": {
    "name": "ipython",
    "version": 3
   },
   "file_extension": ".py",
   "mimetype": "text/x-python",
   "name": "python",
   "nbconvert_exporter": "python",
   "pygments_lexer": "ipython3",
   "version": "3.5.2"
  }
 },
 "nbformat": 4,
 "nbformat_minor": 0
}
